{
 "cells": [
  {
   "cell_type": "code",
   "execution_count": null,
   "id": "c244be88",
   "metadata": {},
   "outputs": [],
   "source": [
    "!pip install torch monai nibabel scikit-learn matplotlib"
   ]
  },
  {
   "cell_type": "markdown",
   "id": "8764c4bc",
   "metadata": {},
   "source": [
    "Imports"
   ]
  },
  {
   "cell_type": "code",
   "execution_count": null,
   "id": "d5cdc43a",
   "metadata": {},
   "outputs": [],
   "source": [
    "import torch \n",
    "import glob \n",
    "import os\n",
    "import nibabel as nib\n",
    "from sklearn.model_selection import train_test_split\n",
    "\n",
    "import monai\n",
    "from monai.transforms import (\n",
    "    Compose,\n",
    "    Rand3DElasticd,\n",
    "    SpatialPadd,\n",
    "    RandFlipd,\n",
    "    RandSpatialCropd,\n",
    "    ToTensord\n",
    ")\n",
    "from monai.data import Dataset, DataLoader\n",
    "from monai.networks.nets import UNet\n",
    "\n",
    "import time\n",
    "from pytorchtools import EarlyStopping\n",
    "\n",
    "from monai.utils import progress_bar\n",
    "\n",
    "import matplotlib.pyplot as plt\n",
    "from monai.inferers import sliding_window_inference\n",
    "from pathlib import Path"
   ]
  },
  {
   "cell_type": "markdown",
   "id": "2c502ba9",
   "metadata": {},
   "source": [
    "Model variables"
   ]
  },
  {
   "cell_type": "code",
   "execution_count": null,
   "id": "4c5587dd",
   "metadata": {},
   "outputs": [],
   "source": [
    "# To test\n",
    "# patch_size = (16, 32)\n",
    "# batch_size = (32, 64, 128)\n",
    "# lr = (0.0001, 0.001, 0.01)\n",
    "# filter_num = (16, 32, 64)\n",
    "# depth = (3, 4)\n",
    "# num_conv = (2, 3)\n",
    "# loss_func = \"mae\"\n",
    "\n",
    "patch_size = 32\n",
    "batch_size = 32\n",
    "lr = 0.0001\n",
    "filter = 32\n",
    "depth = 3\n",
    "num_conv = 2\n",
    "loss_func = \"mae\""
   ]
  },
  {
   "cell_type": "markdown",
   "id": "22b50c4c",
   "metadata": {},
   "source": [
    "create output directory "
   ]
  },
  {
   "cell_type": "code",
   "execution_count": null,
   "id": "68e079ee",
   "metadata": {},
   "outputs": [],
   "source": [
    "output_dir = f\"output/patch-{patch_size}_batch-{batch_size}_LR-{lr}_filter-{filter}_depth-{depth}_convs-{num_conv}_loss-{loss_func}/\"\n",
    "if not os.path.exists(output_dir):\n",
    "    os.makedirs(output_dir)"
   ]
  },
  {
   "cell_type": "markdown",
   "id": "d2f09751",
   "metadata": {},
   "source": [
    "Resources"
   ]
  },
  {
   "cell_type": "code",
   "execution_count": null,
   "id": "46579389",
   "metadata": {},
   "outputs": [],
   "source": [
    "# use gpu if available \n",
    "pin_memory = torch.cuda.is_available()\n",
    "device = torch.device(\"cuda\" if torch.cuda.is_available() else \"cpu\")\n"
   ]
  },
  {
   "cell_type": "markdown",
   "id": "0a32da08",
   "metadata": {},
   "source": [
    "Move preprocessed data to one input folder "
   ]
  },
  {
   "cell_type": "code",
   "execution_count": null,
   "id": "e3634f22",
   "metadata": {},
   "outputs": [],
   "source": [
    "\n",
    "# bids input folder to subject folders from preprocessing output \n",
    "bids_root = \"user_input\"\n",
    "\n",
    "# subject folders \n",
    "subjects = sorted(glob.glob(os.path.join(bids_root, \"sub-*\")))\n",
    "\n",
    "data_dicts = []\n",
    "\n",
    "# create a dictonary of matching gad and nogad files\n",
    "for sub in subjects:\n",
    "    gad_images = glob.glob(os.path.join(sub, \"work\", \"ses-pre\", \"anat\", \"*_gad*_T1w.nii.gz\"))\n",
    "    nogad_images = glob.glob(os.path.join(sub, \"work\", \"ses-pre\", \"anat\", \"*nongad*_T1w.nii.gz\"))\n",
    "    if gad_images and nogad_images:\n",
    "        data_dicts.append({\"image\": gad_images[0], \"label\": nogad_images[0]})\n",
    "\n",
    "print(\"Loaded\", len(data_dicts), \"paired samples.\")"
   ]
  },
  {
   "cell_type": "markdown",
   "id": "699898c6",
   "metadata": {},
   "source": [
    "Split into train, test, validate"
   ]
  },
  {
   "cell_type": "code",
   "execution_count": null,
   "id": "6da63673",
   "metadata": {},
   "outputs": [],
   "source": [
    "# 70% train, 15% val, 15% test \n",
    "\n",
    "train_val, test = train_test_split(data_dicts, test_size=0.15, random_state=42)\n",
    "\n",
    "# 0.176 ≈ 15% of the full data\n",
    "train, val = train_test_split(train_val, test_size=0.176, random_state=42)\n",
    "\n",
    "print(f\"Train: {len(train)}, Val: {len(val)}, Test: {len(test)}\")"
   ]
  },
  {
   "cell_type": "markdown",
   "id": "99c4da5e",
   "metadata": {},
   "source": [
    "Define transforms "
   ]
  },
  {
   "cell_type": "code",
   "execution_count": null,
   "id": "9bab80e9",
   "metadata": {},
   "outputs": [],
   "source": [
    "# using transformations from original code \n",
    "\n",
    "# set size of image to patch size (patch_size, patch_size, patch_size)\n",
    "dims_tuple = (patch_size,)*3\n",
    "\n",
    "# want to train with patches\n",
    "train_transforms = Compose([\n",
    "    SpatialPadd(keys = (\"image\",\"label\"), spatial_size = dims_tuple), #ensures all data is around the same size\n",
    "    Rand3DElasticd(keys = (\"image\",\"label\"), sigma_range = (0.5,1), magnitude_range = (0.1, 0.4), prob=0.4, shear_range=(0.1, -0.05, 0.0, 0.0, 0.0, 0.0), scale_range=0.5, padding_mode= \"zeros\"),\n",
    "    RandFlipd(keys = (\"image\",\"label\"), prob = 0.5, spatial_axis=1),\n",
    "    RandFlipd(keys = (\"image\",\"label\"), prob = 0.5, spatial_axis=0),\n",
    "    RandFlipd(keys = (\"image\",\"label\"), prob = 0.5, spatial_axis=2),\n",
    "    RandSpatialCropd(keys=[\"image\", \"label\"], roi_size=patch_size, random_center=True, random_size=False),\n",
    "    ToTensord(keys=[\"image\", \"label\"])\n",
    "])\n",
    "\n",
    "# want to validate and test with whole images \n",
    "val_transforms = Compose([\n",
    "    SpatialPadd(keys = (\"image\",\"label\"),spatial_size = dims_tuple),\n",
    "    ToTensord(keys=[\"image\", \"label\"])\n",
    "])\n"
   ]
  },
  {
   "cell_type": "markdown",
   "id": "29a34313",
   "metadata": {},
   "source": [
    "Set up datasets and data loader with monai"
   ]
  },
  {
   "cell_type": "code",
   "execution_count": null,
   "id": "fef550ba",
   "metadata": {},
   "outputs": [],
   "source": [
    "\n",
    "train_ds = Dataset(data=train, transform=train_transforms)\n",
    "val_ds = Dataset(data=val, transform=val_transforms)\n",
    "test_ds = Dataset(data=test, transform=val_transforms)\n",
    "\n",
    "train_loader = DataLoader(train_ds, batch_size=batch_size, shuffle=False, num_workers=32, pin_memory=pin_memory)\n",
    "\n",
    "# val and test on whole brain data \n",
    "val_loader = DataLoader(val_ds, batch_size=1, num_workers=2, pin_memory=pin_memory)\n",
    "test_loader = DataLoader(test_ds, batch_size=1, num_workers=2, pin_memory=pin_memory)"
   ]
  },
  {
   "cell_type": "markdown",
   "id": "b0e81649",
   "metadata": {},
   "source": [
    "Model definition "
   ]
  },
  {
   "cell_type": "code",
   "execution_count": null,
   "id": "81bee68b",
   "metadata": {},
   "outputs": [],
   "source": [
    "# calculate channels and strides based on given parameters\n",
    "\n",
    "# if depth is 3, and filter is 16, channels = 16, 32, 64\n",
    "channels = []\n",
    "for i in range(depth):\n",
    "    channels.append(filter)\n",
    "    filter *=2\n",
    "print(\"channels: \", channels)\n",
    "\n",
    "# if depth is 3, strides = 2, 2, 1 \n",
    "strides = []\n",
    "for i in range(depth - 1):\n",
    "    strides.append(2)\n",
    "strides.append(1)\n",
    "print(\"strides: \", strides)\n",
    "\n",
    "# define model \n",
    "model = UNet(\n",
    "    dimensions=3,\n",
    "    in_channels=1,\n",
    "    out_channels=1,\n",
    "    channels=channels,\n",
    "    strides=strides,\n",
    "    num_res_units=2,\n",
    "    dropout=0.2,\n",
    "    norm='BATCH'\n",
    ").apply(monai.networks.normal_init).to(device)\n",
    "\n",
    "trainable_params = sum(p.numel() for p in model.parameters() if p.requires_grad)"
   ]
  },
  {
   "cell_type": "markdown",
   "id": "48ea381b",
   "metadata": {},
   "source": [
    "Define lr, optimization, epochs, loss"
   ]
  },
  {
   "cell_type": "code",
   "execution_count": null,
   "id": "e835a8f8",
   "metadata": {},
   "outputs": [],
   "source": [
    "learning_rate = float(lr)\n",
    "\n",
    "# common defaults\n",
    "betas = (0.5, 0.999)\n",
    "\n",
    "optimizer = torch.optim.Adam(model.parameters(), lr = learning_rate, betas=betas)\n",
    "\n",
    "patience = 22 # epochs it will take for training to terminate if no improvement\n",
    "early_stopping = EarlyStopping(patience=patience, verbose=True, path = f'{output_dir}/checkpoint.pt')\n",
    "max_epochs = 800\n",
    "\n",
    "loss = torch.nn.L1Loss().to(device)\n",
    "\n",
    "train_losses = [float('inf')]\n",
    "val_losses = [float('inf')]\n",
    "test_loss = 0"
   ]
  },
  {
   "cell_type": "markdown",
   "id": "39a74d64",
   "metadata": {},
   "source": [
    "Train model"
   ]
  },
  {
   "cell_type": "code",
   "execution_count": null,
   "id": "4b7898ed",
   "metadata": {},
   "outputs": [],
   "source": [
    "start = time.time()\n",
    "\n",
    "for epoch in range(max_epochs):\n",
    "    print(f\"\\nEpoch {epoch + 1}/{max_epochs}\")\n",
    "    model.train()\n",
    "    epoch_loss = 0\n",
    "\n",
    "    progress_bar(\n",
    "        index=epoch+1, # displays what step we are of current epoch, our epoch number, training  loss\n",
    "        count = max_epochs, \n",
    "        desc= f\"epoch {epoch + 1}, training mae loss: {train_losses[-1]:.4f}, validation mae metric: {val_losses[-1]:.4f}\",\n",
    "        newline = True) # progress bar to display current stage in training\n",
    "    \n",
    "    # training\n",
    "    avg_train_loss = 0\n",
    "    for i, batch in enumerate(train_loader):\n",
    "        # image is gad image, label is nogad image\n",
    "        gad_images, nogad_images = batch[\"image\"].to(device), batch[\"label\"].to(device)\n",
    "        optimizer.zero_grad() #resets optimizer to 0\n",
    "        degad_images = model(gad_images)\n",
    "\n",
    "        train_loss = loss(degad_images, nogad_images)\n",
    "        train_loss.backward() # computes gradients for each parameter based on loss\n",
    "        optimizer.step() # updates the model weights using the gradient\n",
    "        avg_train_loss += train_loss.item() \n",
    "   \n",
    "    avg_train_loss /= len(train_loader) # average loss per current epoch \n",
    "    train_losses.append(avg_train_loss) # append total epoch loss divided by the number of training steps in epoch to loss list\n",
    "    model.eval()\n",
    "    \n",
    "    # validation \n",
    "    with torch.no_grad(): #we do not update weights/biases in validation training, only used to assess current state of model\n",
    "        avg_val_loss = 0 # will hold sum of all validation losses in epoch and then average\n",
    "        for i, batch in enumerate(val_loader): # iterating through dataloader\n",
    "            gad_images, nogad_images = batch[\"image\"].to(device), batch[\"label\"].to(device)\n",
    "            degad_images = model(gad_images)\n",
    "            \n",
    "            val_loss = loss(degad_images, nogad_images)\n",
    "            avg_val_loss += val_loss.item() \n",
    "        \n",
    "        avg_val_loss /= len(val_loader) #producing average val loss for this epoch\n",
    "        val_losses.append(avg_val_loss) \n",
    "        early_stopping(avg_val_loss, model) # early stopping keeps track of last best model\n",
    "\n",
    "    if early_stopping.early_stop: # stops early if validation loss has not improved for {patience} number of epochs\n",
    "        print(\"Early stopping, saving model\") \n",
    "        break\n",
    "\n",
    "end = time.time()\n",
    "time = end - start\n",
    "print(\"time for training and validation: \", time)"
   ]
  },
  {
   "cell_type": "markdown",
   "id": "b2e97b9b",
   "metadata": {},
   "source": [
    "Plot training metrics "
   ]
  },
  {
   "cell_type": "code",
   "execution_count": null,
   "id": "7d3d763c",
   "metadata": {},
   "outputs": [],
   "source": [
    "# from original code \n",
    "\n",
    "with open (f'{output_dir}/model_stats.txt', 'w') as file:  \n",
    "    file.write(f'Training time: {time}\\n') \n",
    "    file.write(f'Number of trainable parameters: {trainable_params}\\n')\n",
    "    file.write(f'Training loss: {train_losses[-patience]} \\nValidation loss: {early_stopping.val_loss_min}')\n",
    "    \n",
    "plt.figure(figsize=(12,5))\n",
    "plt.xlabel(\"Epochs\")\n",
    "plt.ylabel(\"Loss\")\n",
    "plt.plot(list(range(len(train_losses))), train_losses, label=\"Training Loss\")\n",
    "plt.plot(list(range(len(val_losses))),val_losses , label=\"Validation Loss\")\n",
    "plt.grid(True, \"both\", \"both\")\n",
    "plt.title(\"Training and Validation Loss\")\n",
    "plt.legend()\n",
    "plt.savefig(f'{output_dir}/lossfunction.png')\n",
    "plt.close()"
   ]
  },
  {
   "cell_type": "markdown",
   "id": "a2e0c76a",
   "metadata": {},
   "source": [
    "Test model with sliding window "
   ]
  },
  {
   "cell_type": "code",
   "execution_count": null,
   "id": "8ed5c29e",
   "metadata": {},
   "outputs": [],
   "source": [
    "model.load_state_dict(torch.load(f'{output_dir}/checkpoint.pt'))\n",
    "model.eval()\n",
    "\n",
    "output_dir_test = Path(output_dir) / \"test\"\n",
    "output_dir_test.mkdir(parents=True, exist_ok=True)\n",
    "\n",
    "with torch.no_grad():\n",
    "    for i, batch in enumerate(test_loader):\n",
    "        gad_images, nogad_images = batch[\"image\"].to(device), batch[\"label\"].to(device)\n",
    "        degad_images = sliding_window_inference(gad_images, patch_size, 1, model)\n",
    "\n",
    "        loss_value = loss(degad_images, nogad_images)\n",
    "\n",
    "        test_loss += loss_value.item()\n",
    "\n",
    "        # to save the output files \n",
    "        # shape[0] gives number of images \n",
    "        for i in range(degad_images.shape[0]):\n",
    "            gad_path = batch[\"image_meta_dict\"][\"filename_or_obj\"][i]\n",
    "            gad_nib = nib.load(gad_path)\n",
    "            sub = Path(gad_path).name.split(\"_\")[0] \n",
    "            degad_name = f\"{sub}_acq-degad_T1w.nii.gz\"\n",
    "            \n",
    "            degad_nib = nib.Nifti1Image(\n",
    "                degad_images[i, 0].detach().numpy()*100, \n",
    "                affine=gad_nib.affine,\n",
    "                header=gad_nib.header\n",
    "            )\n",
    "\n",
    "            os.makedirs(f'{output_dir_test}/bids/{sub}/ses-pre/anat', exist_ok=True) # save in bids format\n",
    "            output_path = f'{output_dir_test}/bids/{sub}/ses-pre/anat/{degad_name}'\n",
    "            nib.save(degad_nib, output_path)\n",
    "    \n",
    "print(f\"Test Loss: {test_loss / len(test_loader):.4f}\")"
   ]
  }
 ],
 "metadata": {
  "kernelspec": {
   "display_name": ".venv",
   "language": "python",
   "name": "python3"
  },
  "language_info": {
   "codemirror_mode": {
    "name": "ipython",
    "version": 3
   },
   "file_extension": ".py",
   "mimetype": "text/x-python",
   "name": "python",
   "nbconvert_exporter": "python",
   "pygments_lexer": "ipython3",
   "version": "3.10.15"
  }
 },
 "nbformat": 4,
 "nbformat_minor": 5
}
